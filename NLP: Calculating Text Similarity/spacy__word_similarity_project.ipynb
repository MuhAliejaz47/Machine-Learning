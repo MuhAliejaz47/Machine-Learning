{
 "cells": [
  {
   "cell_type": "code",
   "execution_count": 60,
   "metadata": {},
   "outputs": [],
   "source": [
    "import spacy"
   ]
  },
  {
   "cell_type": "code",
   "execution_count": 61,
   "metadata": {},
   "outputs": [],
   "source": [
    "nlp = spacy.load('en_core_web_lg')"
   ]
  },
  {
   "cell_type": "code",
   "execution_count": 62,
   "metadata": {},
   "outputs": [],
   "source": [
    "#Words that are not similar\n",
    "\n",
    "w1 = 'red'\n",
    "w2 = 'walking'\n",
    "\n",
    "w1 = nlp(w1)\n",
    "w2 = nlp(w2)"
   ]
  },
  {
   "cell_type": "code",
   "execution_count": 63,
   "metadata": {},
   "outputs": [
    {
     "data": {
      "text/plain": [
       "0.18171408792747065"
      ]
     },
     "execution_count": 63,
     "metadata": {},
     "output_type": "execute_result"
    }
   ],
   "source": [
    "#Low score indicates low simiarity\n",
    "\n",
    "w1.similarity(w2)"
   ]
  },
  {
   "cell_type": "code",
   "execution_count": 64,
   "metadata": {},
   "outputs": [],
   "source": [
    "#Words that are similar\n",
    "\n",
    "w3 = 'blue'\n",
    "w4 ='green'\n",
    "\n",
    "w3 = nlp(w3)\n",
    "w4 = nlp(w4)"
   ]
  },
  {
   "cell_type": "code",
   "execution_count": 65,
   "metadata": {},
   "outputs": [
    {
     "data": {
      "text/plain": [
       "0.7440647543351684"
      ]
     },
     "execution_count": 65,
     "metadata": {},
     "output_type": "execute_result"
    }
   ],
   "source": [
    "#High score indicates high similarities\n",
    "\n",
    "w3.similarity(w4)\n",
    "\n",
    "\n",
    "#Feel free to add your own exapmles"
   ]
  },
  {
   "cell_type": "code",
   "execution_count": 66,
   "metadata": {},
   "outputs": [],
   "source": [
    "#Similar Sentences\n",
    "\n",
    "s1 = nlp('I am a patriotic person')\n",
    "s2 = nlp('I love my motherland')\n",
    "\n",
    "s1 = nlp(s1)\n",
    "s2 = nlp(s2)\n"
   ]
  },
  {
   "cell_type": "code",
   "execution_count": 67,
   "metadata": {},
   "outputs": [
    {
     "data": {
      "text/plain": [
       "0.6930311406284732"
      ]
     },
     "execution_count": 67,
     "metadata": {},
     "output_type": "execute_result"
    }
   ],
   "source": [
    "s1.similarity(s2)"
   ]
  },
  {
   "cell_type": "code",
   "execution_count": 68,
   "metadata": {},
   "outputs": [],
   "source": [
    "#Disimilar Sentences\n",
    "\n",
    "s3 = nlp('I like to play football')\n",
    "s4 = nlp('This weekend there is a hyped ufc match')\n",
    "\n",
    "s3 = nlp(s3)\n",
    "s4 = nlp(s4)\n"
   ]
  },
  {
   "cell_type": "code",
   "execution_count": 69,
   "metadata": {},
   "outputs": [
    {
     "data": {
      "text/plain": [
       "0.3900680210676569"
      ]
     },
     "execution_count": 69,
     "metadata": {},
     "output_type": "execute_result"
    }
   ],
   "source": [
    "s3.similarity(s4)"
   ]
  },
  {
   "cell_type": "code",
   "execution_count": 70,
   "metadata": {},
   "outputs": [],
   "source": [
    "s1 = nlp('I play football in this awful ground')\n",
    "s2 = nlp('I play guitar in this red room')\n",
    "s3 = nlp('I repair guitar in this ugly room')\n",
    "\n",
    "\n",
    "s1_verbs = ' '.join([token.lemma_ for token in s1 if token.pos_ == 'VERB'])\n",
    "s1_adj = ' '.join([token.lemma_ for token in s1 if token.pos_ == 'ADJ'])\n",
    "s1_nouns = ' '.join([token.lemma_ for token in s1 if token.pos_ == 'NOUN'])\n",
    "\n",
    "\n",
    "s2_verbs = ' '.join([token.lemma_ for token in s2 if token.pos_ == 'VERB'])\n",
    "s2_adj = ' '.join([token.lemma_ for token in s2 if token.pos_ == 'ADJ'])\n",
    "s2_nouns = ' '.join([token.lemma_ for token in s2 if token.pos_ == 'NOUN'])\n",
    "\n",
    "\n",
    "s3_verbs = ' '.join([token.lemma_ for token in s3 if token.pos_ == 'VERB'])\n",
    "s3_adj = ' '.join([token.lemma_ for token in s3 if token.pos_ == 'ADJ'])\n",
    "s3_nouns = ' '.join([token.lemma_ for token in s3 if token.pos_ == 'NOUN'])\n",
    "\n"
   ]
  },
  {
   "cell_type": "code",
   "execution_count": 71,
   "metadata": {},
   "outputs": [
    {
     "name": "stdout",
     "output_type": "stream",
     "text": [
      "I play football in this awful ground and I play guitar in this red room VERBS: 1.0\n",
      "I play football in this awful ground and I repair guitar in this ugly room VERBS: 0.09180833117643351\n",
      "I play guitar in this red room and I repair guitar in this ugly room VERBS: 0.09180833117643351\n"
     ]
    }
   ],
   "source": [
    "print(f'{s1} and {s2} VERBS: {nlp(s1_verbs).similarity(nlp(s2_verbs))}')\n",
    "print(f'{s1} and {s3} VERBS: {nlp(s1_verbs).similarity(nlp(s3_verbs))}')\n",
    "print(f'{s2} and {s3} VERBS: {nlp(s2_verbs).similarity(nlp(s3_verbs))}')"
   ]
  },
  {
   "cell_type": "code",
   "execution_count": 72,
   "metadata": {},
   "outputs": [
    {
     "name": "stdout",
     "output_type": "stream",
     "text": [
      "I play football in this awful ground and I play guitar in this red room ADJECTIVES: 0.046686319511814595\n",
      "I play football in this awful ground and I repair guitar in this ugly room ADJECTIVES: -0.06101604665591389\n",
      "I play guitar in this red room and I repair guitar in this ugly room ADJECTIVES: -0.06101604665591389\n"
     ]
    }
   ],
   "source": [
    "print(f'{s1} and {s2} ADJECTIVES: {nlp(s1_verbs).similarity(nlp(s2_adj))}')\n",
    "print(f'{s1} and {s3} ADJECTIVES: {nlp(s1_verbs).similarity(nlp(s3_adj))}')\n",
    "print(f'{s2} and {s3} ADJECTIVES: {nlp(s2_verbs).similarity(nlp(s3_adj))}')"
   ]
  },
  {
   "cell_type": "code",
   "execution_count": 73,
   "metadata": {},
   "outputs": [
    {
     "name": "stdout",
     "output_type": "stream",
     "text": [
      "I play football in this awful ground and I play guitar in this red room NOUNS: 0.2856289316580635\n",
      "I play football in this awful ground and I repair guitar in this ugly room NOUNS: 0.2856289316580635\n",
      "I play guitar in this red room and I repair guitar in this ugly room NOUNS: 0.2856289316580635\n"
     ]
    }
   ],
   "source": [
    "print(f'{s1} and {s2} NOUNS: {nlp(s1_verbs).similarity(nlp(s2_nouns))}')\n",
    "print(f'{s1} and {s3} NOUNS: {nlp(s1_verbs).similarity(nlp(s3_nouns))}')\n",
    "print(f'{s2} and {s3} NOUNS: {nlp(s2_verbs).similarity(nlp(s3_nouns))}')"
   ]
  },
  {
   "cell_type": "code",
   "execution_count": null,
   "metadata": {},
   "outputs": [],
   "source": []
  }
 ],
 "metadata": {
  "kernelspec": {
   "display_name": "Python 3",
   "language": "python",
   "name": "python3"
  },
  "language_info": {
   "codemirror_mode": {
    "name": "ipython",
    "version": 3
   },
   "file_extension": ".py",
   "mimetype": "text/x-python",
   "name": "python",
   "nbconvert_exporter": "python",
   "pygments_lexer": "ipython3",
   "version": "3.10.10"
  },
  "orig_nbformat": 4
 },
 "nbformat": 4,
 "nbformat_minor": 2
}
