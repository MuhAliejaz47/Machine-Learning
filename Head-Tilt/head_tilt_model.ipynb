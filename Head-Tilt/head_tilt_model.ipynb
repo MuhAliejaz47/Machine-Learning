{
 "cells": [
  {
   "cell_type": "code",
   "execution_count": 3,
   "metadata": {},
   "outputs": [
    {
     "name": "stdout",
     "output_type": "stream",
     "text": [
      "Tilt angle: 48.01 degrees\n"
     ]
    }
   ],
   "source": [
    "import cv2 as cv\n",
    "import numpy as np\n",
    "from tkinter import Tk\n",
    "from tkinter import filedialog\n",
    "\n",
    "# Create Tkinter window\n",
    "root = Tk()\n",
    "root.withdraw()  # Hide the main window\n",
    "\n",
    "# Prompt user to select an image file\n",
    "file_path = filedialog.askopenfilename(title=\"Select an image file\", filetypes=[(\"Image files\", \"*.jpg;*.jpeg;*.png\")])\n",
    "\n",
    "if file_path:\n",
    "    # Load image\n",
    "    image = cv.imread(file_path)\n",
    "\n",
    "    # Convert image to grayscale\n",
    "    gray = cv.cvtColor(image, cv.COLOR_BGR2GRAY)\n",
    "\n",
    "    # Load cascade classifiers\n",
    "    face_cascade = cv.CascadeClassifier('haarcascade_frontalface_default.xml')\n",
    "    eye_cascade = cv.CascadeClassifier(\"haarcascade_eye.xml\")\n",
    "\n",
    "    # Detect faces\n",
    "    faces = face_cascade.detectMultiScale(gray, 1.1, 5)\n",
    "\n",
    "    for (x, y, w, h) in faces:\n",
    "        # Detect eyes within the face region\n",
    "        eyes = eye_cascade.detectMultiScale(gray[y:(y + h), x:(x + w)], 1.1, 4)\n",
    "        index = 0\n",
    "        eye_1 = [None, None, None, None]\n",
    "        eye_2 = [None, None, None, None]\n",
    "\n",
    "        for (ex, ey, ew, eh) in eyes:\n",
    "            if index == 0:\n",
    "                eye_1 = [ex, ey, ew, eh]\n",
    "            elif index == 1:\n",
    "                eye_2 = [ex, ey, ew, eh]\n",
    "            index += 1\n",
    "\n",
    "        if (eye_1[0] is not None) and (eye_2[0] is not None):\n",
    "            if eye_1[0] < eye_2[0]:\n",
    "                left_eye = eye_1\n",
    "                right_eye = eye_2\n",
    "            else:\n",
    "                left_eye = eye_2\n",
    "                right_eye = eye_1\n",
    "\n",
    "            left_eye_center = (int(left_eye[0] + (left_eye[2] / 2)), int(left_eye[1] + (left_eye[3] / 2)))\n",
    "            right_eye_center = (int(right_eye[0] + (right_eye[2] / 2)), int(right_eye[1] + (right_eye[3] / 2)))\n",
    "\n",
    "            left_eye_x = left_eye_center[0]\n",
    "            left_eye_y = left_eye_center[1]\n",
    "            right_eye_x = right_eye_center[0]\n",
    "            right_eye_y = right_eye_center[1]\n",
    "\n",
    "            delta_x = right_eye_x - left_eye_x\n",
    "            delta_y = right_eye_y - left_eye_y\n",
    "\n",
    "            angle = np.arctan(delta_y / delta_x) * 180 / np.pi\n",
    "            print(f\"Tilt angle: {angle:.2f} degrees\")\n"
   ]
  },
  {
   "cell_type": "code",
   "execution_count": null,
   "metadata": {},
   "outputs": [],
   "source": []
  }
 ],
 "metadata": {
  "kernelspec": {
   "display_name": "Python 3",
   "language": "python",
   "name": "python3"
  },
  "language_info": {
   "codemirror_mode": {
    "name": "ipython",
    "version": 3
   },
   "file_extension": ".py",
   "mimetype": "text/x-python",
   "name": "python",
   "nbconvert_exporter": "python",
   "pygments_lexer": "ipython3",
   "version": "3.10.10"
  }
 },
 "nbformat": 4,
 "nbformat_minor": 2
}
